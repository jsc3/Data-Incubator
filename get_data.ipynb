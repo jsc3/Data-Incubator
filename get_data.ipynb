{
 "cells": [
  {
   "cell_type": "code",
   "execution_count": 16,
   "metadata": {},
   "outputs": [],
   "source": [
    "from bs4 import BeautifulSoup\n",
    "from urllib.request import urlopen\n",
    "import sys\n",
    "import os\n",
    "import re\n",
    "\n",
    "sys.setrecursionlimit(10000)\n",
    "\n",
    "def fetching_url(year, month):\n",
    "    html = urlopen(\"https://www.crossfit.com/workout/{}/{}\".format(year, month))\n",
    "    bsobj = BeautifulSoup(html.read(), \"html.parser\")\n",
    "    divs = bsobj.findAll(\"div\", {\"class\":\"col-sm-6\"})\n",
    "    return divs"
   ]
  },
  {
   "cell_type": "code",
   "execution_count": 17,
   "metadata": {},
   "outputs": [],
   "source": [
    "first_year = 2003\n",
    "last_year = 2017\n",
    "months = range(1, 12+1)\n",
    "years = range(first_year, last_year + 1)\n",
    "keywordFilter = ['Rest Day']"
   ]
  },
  {
   "cell_type": "code",
   "execution_count": 18,
   "metadata": {},
   "outputs": [],
   "source": [
    "for year in years:\n",
    "    for month in months:\n",
    "        if not os.path.exists(\"Data/Total_Data2\"):\n",
    "            os.makedirs(\"Data/Total_Data2\")\n",
    "        content = fetching_url(year, month)\n",
    "        workouts=[]\n",
    "        j=0\n",
    "        for raw in content:\n",
    "            j+=1\n",
    "            if j%3 == 2:\n",
    "                wo = raw.get_text()\n",
    "                workouts.append(wo)\n",
    "        workouts = [sent for sent in workouts if not any(word in sent for word in keywordFilter)]\n",
    "        DoM = [str(x) for x in range(1, len(workouts)+1)]\n",
    "        for wod, day in zip(workouts, DoM):\n",
    "            wod = re.sub('Divide/s[^@]*.*', '', wod)\n",
    "            wod = re.sub('Multiply/s[^@]*.*', '', wod)\n",
    "            wod = re.sub('Add\\s[^@]*.*', '', wod)\n",
    "            od = re.sub('There is[^@]*.*', '', wod)\n",
    "            wod = re.sub('[Nn]otes:[^@]*.[^@]*', '', wod)\n",
    "            wod = re.sub('[Pp]ost[^@]*.*', '', wod)\n",
    "            wod = re.sub('[Rr]eport[^@]*.*', '', wod)\n",
    "            wod = re.sub('In this[^@]*.*', '', wod)\n",
    "            wod = re.sub('and post to comments.*', '', wod)\n",
    "            wod = re.sub('[Cc]ompare[^@]*.*', '', wod)\n",
    "            wod = re.sub('to comments.*', '', wod)\n",
    "            wod = re.sub('[Cc]omment.*', '', wod)\n",
    "            wod = wod.rstrip()\n",
    "            with open(\"Data/Total_Data2/\" + \"WOD\" + \"_\" + \"{}_{}\".format(year, month) + \"_\" + day + \".txt\", \"w\") as file:\n",
    "                file.write(wod + \"\\n\")  "
   ]
  },
  {
   "cell_type": "code",
   "execution_count": null,
   "metadata": {},
   "outputs": [],
   "source": [
    "# data2 = []\n",
    "# for wo in data:\n",
    "#     tagged_wod = nltk.tag.pos_tag(wo.split())\n",
    "#     edited_wod = [word for word, tag in tagged_wod if tag != 'NNP']\n",
    "#     ' '.join(edited_wod)\n",
    "#     data2.append(edited_wod)\n",
    "# print(data2[546])    \n",
    "\n",
    "\n",
    "#             wod = re.sub('Time[^@]*comments.', '', wod)\n",
    "#             wod = re.sub('Add your[^@]*comments.', '', wod)\n",
    "#             wod = re.sub('and post[^@]*comments.', '', wod)\n",
    "#             wod = re.sub('Divide load[^@]*comments.', '', wod) "
   ]
  }
 ],
 "metadata": {
  "kernelspec": {
   "display_name": "Python 3",
   "language": "python",
   "name": "python3"
  },
  "language_info": {
   "codemirror_mode": {
    "name": "ipython",
    "version": 3
   },
   "file_extension": ".py",
   "mimetype": "text/x-python",
   "name": "python",
   "nbconvert_exporter": "python",
   "pygments_lexer": "ipython3",
   "version": "3.6.4"
  }
 },
 "nbformat": 4,
 "nbformat_minor": 2
}
