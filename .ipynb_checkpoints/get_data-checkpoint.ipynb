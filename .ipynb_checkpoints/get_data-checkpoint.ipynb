{
 "cells": [
  {
   "cell_type": "code",
   "execution_count": 4,
   "metadata": {},
   "outputs": [],
   "source": [
    "from bs4 import BeautifulSoup\n",
    "from urllib.request import urlopen\n",
    "import sys\n",
    "import os\n",
    "import re\n",
    "\n",
    "sys.setrecursionlimit(10000)\n",
    "\n",
    "def fetching_url(year, month):\n",
    "    html = urlopen(\"https://www.crossfit.com/workout/{}/{}\".format(year, month))\n",
    "    bsobj = BeautifulSoup(html.read(), \"html.parser\")\n",
    "    divs = bsobj.findAll(\"div\", {\"class\":\"col-sm-6\"})\n",
    "    return divs"
   ]
  },
  {
   "cell_type": "code",
   "execution_count": 5,
   "metadata": {},
   "outputs": [],
   "source": [
    "first_year = 2003\n",
    "last_year = 2017\n",
    "months = range(1, 12+1)\n",
    "years = range(first_year, last_year + 1)\n",
    "keywordFilter = ['Rest Day']"
   ]
  },
  {
   "cell_type": "code",
   "execution_count": null,
   "metadata": {},
   "outputs": [],
   "source": [
    "for year in years:\n",
    "    for month in months:\n",
    "        if not os.path.exists(\"Data/Total_Data\"):\n",
    "            os.makedirs(\"Data/Total_Data\")\n",
    "        content = fetching_url(year, month)\n",
    "        workouts=[]\n",
    "        j=0\n",
    "        for raw in content:\n",
    "            j+=1\n",
    "            if j%3 == 2:\n",
    "                wo = raw.get_text()\n",
    "                workouts.append(wo)\n",
    "        workouts = [sent for sent in workouts if not any(word in sent for word in keywordFilter)]\n",
    "        DoM = [str(x) for x in range(1, len(workouts)+1)]\n",
    "        for wod, day in zip(workouts, DoM):\n",
    "            with open(\"Data/Total_Data/\" + \"WOD\" + \"_\" + \"{}_{}\".format(year, month) + \"_\" + day + \".txt\", \"w\") as file:\n",
    "                file.write(wod + \"\\n\") "
   ]
  }
 ],
 "metadata": {
  "kernelspec": {
   "display_name": "Python 3",
   "language": "python",
   "name": "python3"
  },
  "language_info": {
   "codemirror_mode": {
    "name": "ipython",
    "version": 3
   },
   "file_extension": ".py",
   "mimetype": "text/x-python",
   "name": "python",
   "nbconvert_exporter": "python",
   "pygments_lexer": "ipython3",
   "version": "3.6.4"
  }
 },
 "nbformat": 4,
 "nbformat_minor": 2
}
